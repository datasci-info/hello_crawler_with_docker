{
 "cells": [
  {
   "cell_type": "code",
   "execution_count": null,
   "metadata": {},
   "outputs": [],
   "source": [
    "import requests\n",
    "from pyquery import PyQuery\n",
    "import pandas as pd\n",
    "from datetime import datetime\n",
    "\n",
    "def get_product_data(product_url):\n",
    "    res = requests.get(product_url)\n",
    "    S = PyQuery(res.text)\n",
    "    \n",
    "    product_sku = res.text.split('''console.log(\"cloudmaker_stock(''')[-1].split(\")\")[0]\n",
    "    product_id = S(\"*[type='hidden']#product_id\").attr(\"value\")\n",
    "    description = \"\\n\".join([PyQuery(p).text() for p in S('*[itemprop=\"offers\"] *[itemprop=\"description\"] p') if len(PyQuery(p)(\"a\")) == 0])\n",
    "    \n",
    "    colors = [PyQuery(p)(\"a\") for p in S('*[itemprop=\"offers\"] *[itemprop=\"description\"] p') if len(PyQuery(p)(\"a\")) > 0][0]\n",
    "    \n",
    "    wh_url = \"https://shop.vanger.com.tw/index.php\"\n",
    "    wh_res = requests.get(wh_url,params={\"route\":\"cloudmaker/order/wareHouseOrdernew\",\n",
    "                                      \"product_sku\":product_sku})\n",
    "    \n",
    "    df = pd.DataFrame(wh_res.json())\n",
    "    def exp_df(row):\n",
    "        stores = row[\"cred_response\"][\"stock\"][0]\n",
    "        return [{\"store\":s,\"qty\":stores[s],\"size\":row[\"cred_response\"][\"size\"]} for s in stores]\n",
    "\n",
    "    store_inventory_df = pd.concat(list(map(pd.DataFrame,df.apply(exp_df,axis=1).tolist())))\n",
    "    store_inventory_df[\"product_sku\"] = product_sku\n",
    "    store_inventory_df[\"product_id\"] = product_id\n",
    "    store_inventory_df[\"surveyAt\"] = datetime.utcnow()\n",
    "    \n",
    "    size_url = \"https://shop.vanger.com.tw/index.php?route=product/product_options&key={prod_id}&type=prod\".format(prod_id = product_id)\n",
    "    size_res = requests.get(size_url)\n",
    "    \n",
    "    SS = PyQuery(size_res.text)\n",
    "    \n",
    "    data = {\n",
    "        \"product_url\": product_url,\n",
    "        \"product_id\": product_id,\n",
    "        \"product_sku\": product_sku,\n",
    "        \"price\": S('*[itemprop=\"price\"]').attr(\"content\"),\n",
    "        \"discount_rule\":S(\".discount\").map(lambda i,e:PyQuery(e).outer_html()),\n",
    "        \"tags\": S(\".tags a\").map(lambda i,e:{\n",
    "            \"tag_name\": PyQuery(e).text(),\n",
    "            \"tag_url\": PyQuery(e).attr(\"href\"),\n",
    "        }),\n",
    "        \"sizes\": SS(\"option\").map(lambda i,e:{\n",
    "            \"maybe_size_id\": PyQuery(e).attr(\"value\"),\n",
    "            \"size\": PyQuery(e).text().replace(\"\\xa0(暫無現貨)\",\"\"),\n",
    "            \"disable\": PyQuery(e).text().endswith(\"\\xa0(暫無現貨)\"),\n",
    "        }),\n",
    "        \"image_wrap\": S(\".img-wrap\").outer_html(),\n",
    "        \"sizing_info\": S(\".product-table.europ-size\").outer_html(),\n",
    "        \"colors\": colors.map(lambda i,e:{\n",
    "            \"product_url\":\"https:\" + PyQuery(e).attr(\"href\"),\n",
    "            \"color\": PyQuery(e)(\"img\").attr(\"title\"),\n",
    "            \"color_img_url\": \"https:\" + PyQuery(e)(\"img\").attr(\"src\"),\n",
    "        }),\n",
    "        \"store_inventory\": store_inventory_df.to_dict(\"records\"),\n",
    "        \"spec_no\":S(\".description\").text().replace(\"規格型號 \",\"\"),\n",
    "        \"description\": description,\n",
    "    }\n",
    "    \n",
    "    return data\n",
    "    \n",
    "    "
   ]
  },
  {
   "cell_type": "code",
   "execution_count": null,
   "metadata": {
    "collapsed": true
   },
   "outputs": [],
   "source": []
  },
  {
   "cell_type": "code",
   "execution_count": null,
   "metadata": {
    "collapsed": true
   },
   "outputs": [],
   "source": [
    "urls = [\n",
    "    \"https://shop.vanger.com.tw/men/vanger_arrivals/va224burgundy\",\n",
    "    \"https://shop.vanger.com.tw/men/vanger_plaintoe/va224black\",\n",
    "    \"https://shop.vanger.com.tw/men/vanger_plaintoe/va234burgundy-2\"\n",
    "]"
   ]
  },
  {
   "cell_type": "code",
   "execution_count": null,
   "metadata": {},
   "outputs": [],
   "source": [
    "list(map(get_product_data,urls))"
   ]
  },
  {
   "cell_type": "code",
   "execution_count": null,
   "metadata": {
    "collapsed": true
   },
   "outputs": [],
   "source": []
  }
 ],
 "metadata": {
  "kernelspec": {
   "display_name": "Python 3",
   "language": "python",
   "name": "python3"
  },
  "language_info": {
   "codemirror_mode": {
    "name": "ipython",
    "version": 3
   },
   "file_extension": ".py",
   "mimetype": "text/x-python",
   "name": "python",
   "nbconvert_exporter": "python",
   "pygments_lexer": "ipython3",
   "version": "3.6.3"
  }
 },
 "nbformat": 4,
 "nbformat_minor": 2
}
