{
 "cells": [
  {
   "cell_type": "code",
   "execution_count": null,
   "metadata": {
    "collapsed": true
   },
   "outputs": [],
   "source": []
  },
  {
   "cell_type": "code",
   "execution_count": null,
   "metadata": {
    "collapsed": true
   },
   "outputs": [],
   "source": [
    "import requests\n",
    "from pyquery import PyQuery\n",
    "import pandas as pd\n",
    "import time\n",
    "\n",
    "def get_all_category_urls():\n",
    "    url = \"https://shop.vanger.com.tw/\"\n",
    "    res = requests.get(url)\n",
    "    \n",
    "    S = PyQuery(res.text)\n",
    "\n",
    "    category_urls = S('li[href=\"https://shop.vanger.com.tw/men\"] a').map(lambda i,e:{\n",
    "        \"url\": PyQuery(e).attr(\"href\"),\n",
    "        \"title\": PyQuery(e).text(),\n",
    "    }) + S('li[href=\"https://shop.vanger.com.tw/woman\"] a').map(lambda i,e:{\n",
    "        \"url\": PyQuery(e).attr(\"href\"),\n",
    "        \"title\": PyQuery(e).text(),\n",
    "    }) + S('li[href=\"https://shop.vanger.com.tw/recommend\"] a').map(lambda i,e:{\n",
    "        \"url\": PyQuery(e).attr(\"href\"),\n",
    "        \"title\": PyQuery(e).text(),\n",
    "    })\n",
    "\n",
    "    category_urls_df = pd.DataFrame(category_urls)\n",
    "\n",
    "    urls = category_urls_df.url.tolist()\n",
    "    return urls \n",
    "\n",
    "def get_all_product_urls_in_category(category_page_url, sleep_time=10.):\n",
    "    category_page_res = requests.get(category_page_url)\n",
    "    S = PyQuery(category_page_res.text)\n",
    "\n",
    "    max_page = max(S(\".pagination a\").map(lambda i,e: int(PyQuery(e).attr(\"href\").replace(category_page_url+\"?page=\",\"\"))))\n",
    "\n",
    "    category_page_urls = [\n",
    "        category_page_url + \"?page={n}\" .format(n=m) for m in range(1,max_page+1)\n",
    "    ]\n",
    "    \n",
    "    category_page_reses = []\n",
    "    \n",
    "    def get_product_page_urls(category_page_res):\n",
    "        S = PyQuery(category_page_res.text)\n",
    "        proudct_urls = S(\".product-listing .image > a\").map(lambda i,e: PyQuery(e).attr(\"href\"))\n",
    "        return proudct_urls\n",
    "    \n",
    "    \n",
    "    for category_page_url in category_page_urls:\n",
    "        category_page_reses.append(get_product_page_urls(requests.get(category_page_url)))\n",
    "        \n",
    "        time.sleep(sleep_time)\n",
    "        print(\"category_page_url = \",category_page_url)\n",
    "        \n",
    "\n",
    "    \n",
    "    all_product_page_urls = []\n",
    "    \n",
    "    for urls in category_page_reses:\n",
    "        all_product_page_urls.extend(urls)\n",
    "        \n",
    "    return all_product_page_urls\n",
    "    "
   ]
  },
  {
   "cell_type": "code",
   "execution_count": null,
   "metadata": {
    "collapsed": true
   },
   "outputs": [],
   "source": []
  },
  {
   "cell_type": "code",
   "execution_count": null,
   "metadata": {
    "collapsed": true
   },
   "outputs": [],
   "source": [
    "all_category_urls = get_all_category_urls()"
   ]
  },
  {
   "cell_type": "code",
   "execution_count": null,
   "metadata": {},
   "outputs": [],
   "source": [
    "get_all_product_urls_in_category(all_category_urls[0],2)"
   ]
  },
  {
   "cell_type": "code",
   "execution_count": null,
   "metadata": {
    "collapsed": true
   },
   "outputs": [],
   "source": []
  }
 ],
 "metadata": {
  "kernelspec": {
   "display_name": "Python 3",
   "language": "python",
   "name": "python3"
  },
  "language_info": {
   "codemirror_mode": {
    "name": "ipython",
    "version": 3
   },
   "file_extension": ".py",
   "mimetype": "text/x-python",
   "name": "python",
   "nbconvert_exporter": "python",
   "pygments_lexer": "ipython3",
   "version": "3.6.3"
  }
 },
 "nbformat": 4,
 "nbformat_minor": 2
}
