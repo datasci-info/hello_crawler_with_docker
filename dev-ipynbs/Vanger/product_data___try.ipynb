{
 "cells": [
  {
   "cell_type": "code",
   "execution_count": null,
   "metadata": {
    "collapsed": true
   },
   "outputs": [],
   "source": [
    "url = \"https://shop.vanger.com.tw/men/vanger_newcollections/va249burgundy\"\n",
    "url = \"https://shop.vanger.com.tw/va249tan\""
   ]
  },
  {
   "cell_type": "code",
   "execution_count": null,
   "metadata": {
    "collapsed": true
   },
   "outputs": [],
   "source": [
    "import requests\n",
    "from pyquery import PyQuery"
   ]
  },
  {
   "cell_type": "code",
   "execution_count": null,
   "metadata": {
    "collapsed": true
   },
   "outputs": [],
   "source": [
    "res = requests.get(url)"
   ]
  },
  {
   "cell_type": "code",
   "execution_count": null,
   "metadata": {},
   "outputs": [],
   "source": [
    "res"
   ]
  },
  {
   "cell_type": "code",
   "execution_count": null,
   "metadata": {
    "collapsed": true
   },
   "outputs": [],
   "source": [
    "S = PyQuery(res.text)"
   ]
  },
  {
   "cell_type": "code",
   "execution_count": null,
   "metadata": {},
   "outputs": [],
   "source": [
    "S(\"*[itemprop='offers']\")"
   ]
  },
  {
   "cell_type": "code",
   "execution_count": null,
   "metadata": {},
   "outputs": [],
   "source": [
    "res.text.split('''console.log(\"cloudmaker_stock(''')[-1].split(\")\")[0]"
   ]
  },
  {
   "cell_type": "code",
   "execution_count": null,
   "metadata": {
    "collapsed": true
   },
   "outputs": [],
   "source": [
    "product_sku = res.text.split('''console.log(\"cloudmaker_stock(''')[-1].split(\")\")[0]"
   ]
  },
  {
   "cell_type": "code",
   "execution_count": null,
   "metadata": {},
   "outputs": [],
   "source": [
    "S(\"*[itemprop='offers'] h1\").text()"
   ]
  },
  {
   "cell_type": "code",
   "execution_count": null,
   "metadata": {},
   "outputs": [],
   "source": [
    "S('*[itemprop=\"offers\"] *[itemprop=\"description\"] p')"
   ]
  },
  {
   "cell_type": "code",
   "execution_count": null,
   "metadata": {},
   "outputs": [],
   "source": [
    "\"\\n\".join([PyQuery(p).text() for p in S('*[itemprop=\"offers\"] *[itemprop=\"description\"] p') if len(PyQuery(p)(\"a\")) == 0])"
   ]
  },
  {
   "cell_type": "code",
   "execution_count": null,
   "metadata": {
    "collapsed": true
   },
   "outputs": [],
   "source": [
    "colors = [PyQuery(p)(\"a\") for p in S('*[itemprop=\"offers\"] *[itemprop=\"description\"] p') if len(PyQuery(p)(\"a\")) > 0][0]"
   ]
  },
  {
   "cell_type": "code",
   "execution_count": null,
   "metadata": {},
   "outputs": [],
   "source": [
    "colors"
   ]
  },
  {
   "cell_type": "code",
   "execution_count": null,
   "metadata": {},
   "outputs": [],
   "source": [
    "colors.map(lambda i,e:{\n",
    "    \"product_url\":\"https:\" + PyQuery(e).attr(\"href\"),\n",
    "    \"color\": PyQuery(e)(\"img\").attr(\"title\"),\n",
    "    \"color_img_url\": \"https:\" + PyQuery(e)(\"img\").attr(\"src\"),\n",
    "})"
   ]
  },
  {
   "cell_type": "code",
   "execution_count": null,
   "metadata": {},
   "outputs": [],
   "source": [
    "product_sku"
   ]
  },
  {
   "cell_type": "code",
   "execution_count": null,
   "metadata": {
    "collapsed": true
   },
   "outputs": [],
   "source": [
    "url = \"https://shop.vanger.com.tw/index.php\""
   ]
  },
  {
   "cell_type": "code",
   "execution_count": null,
   "metadata": {
    "collapsed": true
   },
   "outputs": [],
   "source": [
    "res = requests.get(url,params={\"route\":\"cloudmaker/order/wareHouseOrdernew\",\n",
    "                               \"product_sku\":product_sku})"
   ]
  },
  {
   "cell_type": "code",
   "execution_count": null,
   "metadata": {},
   "outputs": [],
   "source": [
    "res"
   ]
  },
  {
   "cell_type": "code",
   "execution_count": null,
   "metadata": {
    "collapsed": true
   },
   "outputs": [],
   "source": [
    "import pandas as pd"
   ]
  },
  {
   "cell_type": "code",
   "execution_count": null,
   "metadata": {},
   "outputs": [],
   "source": [
    "df = pd.DataFrame(res.json())"
   ]
  },
  {
   "cell_type": "code",
   "execution_count": null,
   "metadata": {},
   "outputs": [],
   "source": [
    "def exp_df(row):\n",
    "    stores = row[\"cred_response\"][\"stock\"][0]\n",
    "    #df = pd.DataFrame([{\"store\":s,\"qty\":stores[s],\"size\":row[\"cred_response\"][\"size\"]} for s in stores])\n",
    "    return [{\"store\":s,\"qty\":stores[s],\"size\":row[\"cred_response\"][\"size\"]} for s in stores]\n",
    "\n",
    "store_inventory_df = pd.concat(list(map(pd.DataFrame,df.apply(exp_df,axis=1).tolist())))"
   ]
  },
  {
   "cell_type": "code",
   "execution_count": null,
   "metadata": {},
   "outputs": [],
   "source": [
    "store_inventory_df[\"product_sku\"] = product_sku"
   ]
  },
  {
   "cell_type": "code",
   "execution_count": null,
   "metadata": {},
   "outputs": [],
   "source": [
    "store_inventory_df"
   ]
  },
  {
   "cell_type": "code",
   "execution_count": null,
   "metadata": {},
   "outputs": [],
   "source": [
    "S(\".product-table.europ-size\").outer_html()"
   ]
  },
  {
   "cell_type": "code",
   "execution_count": null,
   "metadata": {},
   "outputs": [],
   "source": [
    "S(\".img-wrap\").outer_html()"
   ]
  },
  {
   "cell_type": "code",
   "execution_count": null,
   "metadata": {},
   "outputs": [],
   "source": [
    "    \n",
    "S(\"*[type='hidden']\").map(lambda i,e: (PyQuery(e).attr(\"id\"), PyQuery(e).attr(\"value\")))"
   ]
  },
  {
   "cell_type": "code",
   "execution_count": null,
   "metadata": {},
   "outputs": [],
   "source": [
    "\n",
    "S(\"*[type='hidden']#product_id\").attr(\"value\")"
   ]
  },
  {
   "cell_type": "code",
   "execution_count": null,
   "metadata": {
    "collapsed": true
   },
   "outputs": [],
   "source": [
    "prod_id = S(\"*[type='hidden']#product_id\").attr(\"value\")"
   ]
  },
  {
   "cell_type": "code",
   "execution_count": null,
   "metadata": {
    "collapsed": true
   },
   "outputs": [],
   "source": [
    "url = \"https://shop.vanger.com.tw/index.php?route=product/product_options&key={prod_id}&type=prod\".format(prod_id = prod_id)"
   ]
  },
  {
   "cell_type": "code",
   "execution_count": null,
   "metadata": {
    "collapsed": true
   },
   "outputs": [],
   "source": [
    "res = requests.get(url)"
   ]
  },
  {
   "cell_type": "code",
   "execution_count": null,
   "metadata": {},
   "outputs": [],
   "source": [
    "res"
   ]
  },
  {
   "cell_type": "code",
   "execution_count": null,
   "metadata": {},
   "outputs": [],
   "source": [
    "SS = PyQuery(res.text)"
   ]
  },
  {
   "cell_type": "code",
   "execution_count": null,
   "metadata": {},
   "outputs": [],
   "source": [
    "SS(\"option\").map(lambda i,e:{\n",
    "    \"maybe_size_id\": PyQuery(e).attr(\"value\"),\n",
    "    \"size\": PyQuery(e).text().replace(\"\\xa0(暫無現貨)\",\"\"),\n",
    "    \"disable\": PyQuery(e).text().endswith(\"\\xa0(暫無現貨)\")\n",
    "})"
   ]
  },
  {
   "cell_type": "code",
   "execution_count": null,
   "metadata": {},
   "outputs": [],
   "source": [
    "S('*[itemprop=\"price\"]').attr(\"content\")"
   ]
  },
  {
   "cell_type": "code",
   "execution_count": null,
   "metadata": {},
   "outputs": [],
   "source": [
    "S(\".discount\").map(lambda i,e:PyQuery(e).outer_html())"
   ]
  },
  {
   "cell_type": "code",
   "execution_count": null,
   "metadata": {},
   "outputs": [],
   "source": [
    "S(\".tags a\").map(lambda i,e:{\n",
    "    \"tag_name\": PyQuery(e).text(),\n",
    "    \"tag_url\": PyQuery(e).attr(\"href\"),\n",
    "})"
   ]
  },
  {
   "cell_type": "code",
   "execution_count": null,
   "metadata": {},
   "outputs": [],
   "source": [
    "S(\".description\").text().replace(\"規格型號 \",\"\")"
   ]
  },
  {
   "cell_type": "code",
   "execution_count": null,
   "metadata": {},
   "outputs": [],
   "source": [
    "data = {\n",
    "    \"product_id\": prod_id,\n",
    "    \"product_sku\": product_sku,\n",
    "    \"price\": S('*[itemprop=\"price\"]').attr(\"content\"),\n",
    "    \"discount_rule\":S(\".discount\").map(lambda i,e:PyQuery(e).outer_html()),\n",
    "    \"tags\": S(\".tags a\").map(lambda i,e:{\n",
    "        \"tag_name\": PyQuery(e).text(),\n",
    "        \"tag_url\": PyQuery(e).attr(\"href\"),\n",
    "    }),\n",
    "    \"sizes\": SS(\"option\").map(lambda i,e:{\n",
    "        \"maybe_size_id\": PyQuery(e).attr(\"value\"),\n",
    "        \"size\": PyQuery(e).text().replace(\"\\xa0(暫無現貨)\",\"\"),\n",
    "        \"disable\": PyQuery(e).text().endswith(\"\\xa0(暫無現貨)\"),\n",
    "    }),\n",
    "    \"image_wrap\": S(\".img-wrap\").outer_html(),\n",
    "    \"sizing_info\": S(\".product-table.europ-size\").outer_html(),\n",
    "    \"colors\": colors.map(lambda i,e:{\n",
    "        \"product_url\":\"https:\" + PyQuery(e).attr(\"href\"),\n",
    "        \"color\": PyQuery(e)(\"img\").attr(\"title\"),\n",
    "        \"color_img_url\": \"https:\" + PyQuery(e)(\"img\").attr(\"src\"),\n",
    "    }),\n",
    "    \"store_inventory\": store_inventory_df.to_dict(\"records\"),\n",
    "    \"spec_no\":S(\".description\").text().replace(\"規格型號 \",\"\"),\n",
    "    \n",
    "}\n",
    "\n",
    "data"
   ]
  },
  {
   "cell_type": "code",
   "execution_count": null,
   "metadata": {
    "collapsed": true
   },
   "outputs": [],
   "source": []
  }
 ],
 "metadata": {
  "kernelspec": {
   "display_name": "Python 3",
   "language": "python",
   "name": "python3"
  },
  "language_info": {
   "codemirror_mode": {
    "name": "ipython",
    "version": 3
   },
   "file_extension": ".py",
   "mimetype": "text/x-python",
   "name": "python",
   "nbconvert_exporter": "python",
   "pygments_lexer": "ipython3",
   "version": "3.6.3"
  }
 },
 "nbformat": 4,
 "nbformat_minor": 2
}
